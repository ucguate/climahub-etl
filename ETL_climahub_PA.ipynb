{
  "nbformat": 4,
  "nbformat_minor": 0,
  "metadata": {
    "colab": {
      "name": "ETL-climahub-PA.ipynb",
      "provenance": [],
      "collapsed_sections": [],
      "include_colab_link": true
    },
    "kernelspec": {
      "name": "python3",
      "display_name": "Python 3"
    },
    "language_info": {
      "name": "python"
    }
  },
  "cells": [
    {
      "cell_type": "markdown",
      "metadata": {
        "id": "view-in-github",
        "colab_type": "text"
      },
      "source": [
        "<a href=\"https://colab.research.google.com/github/ucguate/climahub-etl/blob/panama/ETL_climahub_PA.ipynb\" target=\"_parent\"><img src=\"https://colab.research.google.com/assets/colab-badge.svg\" alt=\"Open In Colab\"/></a>"
      ]
    },
    {
      "cell_type": "code",
      "metadata": {
        "colab": {
          "base_uri": "https://localhost:8080/"
        },
        "id": "niNBcNP-Qd2S",
        "outputId": "6094ef48-6538-4e4d-d7f4-3791d3da7580"
      },
      "source": [
        "# Psycopg2 module installation\n",
        "!pip install psycopg2\n",
        "!pip install requests"
      ],
      "execution_count": 7,
      "outputs": [
        {
          "output_type": "stream",
          "text": [
            "Requirement already satisfied: psycopg2 in /usr/local/lib/python3.7/dist-packages (2.7.6.1)\n",
            "Requirement already satisfied: requests in /usr/local/lib/python3.7/dist-packages (2.23.0)\n",
            "Requirement already satisfied: chardet<4,>=3.0.2 in /usr/local/lib/python3.7/dist-packages (from requests) (3.0.4)\n",
            "Requirement already satisfied: idna<3,>=2.5 in /usr/local/lib/python3.7/dist-packages (from requests) (2.10)\n",
            "Requirement already satisfied: urllib3!=1.25.0,!=1.25.1,<1.26,>=1.21.1 in /usr/local/lib/python3.7/dist-packages (from requests) (1.24.3)\n",
            "Requirement already satisfied: certifi>=2017.4.17 in /usr/local/lib/python3.7/dist-packages (from requests) (2021.5.30)\n"
          ],
          "name": "stdout"
        }
      ]
    },
    {
      "cell_type": "code",
      "metadata": {
        "id": "QNCBvmeqSNGb"
      },
      "source": [
        "# importing psycopg2 \n",
        "import psycopg2 \n",
        "from psycopg2 import Error\n",
        "from pprint import pprint\n",
        "# import requests for rest requests \n",
        "import requests\n",
        "# importing json module\n",
        "import json\n",
        "# importing pandas to manage Dictionaries as pandas DataFrames\n",
        "import pandas as pd\n",
        "import re "
      ],
      "execution_count": 229,
      "outputs": []
    },
    {
      "cell_type": "code",
      "metadata": {
        "id": "-vuBhvhaZDXz"
      },
      "source": [
        "# manipulate data functions\n",
        "def get_metar(zoom = 18, filter = 'prior', density = 0, taf = 'false', bbox = '-104.94370625,1.7950665583439,-60.998393750001,28.156120443236'):\n",
        "  queryParams = {\n",
        "      'zoom': zoom,\n",
        "      'filter': filter,\n",
        "      'density': density,\n",
        "      'taf': taf,\n",
        "      'bbox': bbox\n",
        "  }\n",
        "  response = requests.get(\"https://927d1d30.us-south.apigw.appdomain.cloud/hidromet\", params=queryParams)\n",
        "  #print(response.json)\n",
        "  data = json.loads(response.text)\n",
        "  data = data[\"sensores\"]\n",
        "  #pprint(data)\n",
        "\n",
        "  #getting column names\n",
        "  #variables = data[\"features\"][1].keys()\n",
        "  #print(variables)\n",
        "\n",
        "  df = pd.DataFrame(data)\n",
        "  #display(df)\n",
        "  return df;"
      ],
      "execution_count": 17,
      "outputs": []
    },
    {
      "cell_type": "markdown",
      "metadata": {
        "id": "FrZSj2M8ievC"
      },
      "source": [
        "# DATABASE CONNECTION and Insert Queries\n"
      ]
    },
    {
      "cell_type": "code",
      "metadata": {
        "id": "L9zZWA0CV-Xe"
      },
      "source": [
        "# creating querying functions\n",
        "def show_tables(cursor):\n",
        "    query = \"\"\"\n",
        "      SELECT *\n",
        "      FROM pg_catalog.pg_tables\n",
        "      WHERE schemaname != 'pg_catalog' AND \n",
        "          schemaname != 'information_schema';\n",
        "    \"\"\"\n",
        "    cursor.execute(query)\n",
        "    pprint(cursor.fetchall())\n",
        "\n",
        "def get_table_cols(table_name):\n",
        "    query = \"\"\"\n",
        "    SELECT column_name\n",
        "      FROM information_schema.columns\n",
        "        WHERE table_schema = 'public'\n",
        "          AND table_name   = '{}'\n",
        "     ;\n",
        "    \"\"\".format(table_name)\n",
        "\n",
        "    cursor.execute(query)\n",
        "    data = cursor.fetchall()\n",
        "    pprint(data)\n",
        "  \n",
        "def station_columns(): \n",
        "  query2 = \"\"\"\n",
        "    SELECT column_name\n",
        "      FROM information_schema.columns\n",
        "        WHERE table_schema = 'public'\n",
        "          AND table_name   = '{}'\n",
        "     ;\n",
        "    \"\"\".format('station')\n",
        "  cursor.execute(query2)\n",
        "  pprint(cursor.fetchall())\n",
        "\n",
        "def insert_station(station_name, latitude, longitude, source_station_id, original_id):\n",
        "  source_id = 2 # ETESA - HIDROMET PA\n",
        "  query = \"\"\"\n",
        "    insert into station (source_id,station_name,latitude,longitude, source_station_id, original_id) \n",
        "      values ( '{}', '{}', '{}', '{}', '{}', '{}') on conflict do nothing;\n",
        "    \"\"\".format(source_id, station_name, latitude, longitude, source_station_id, original_id)\n",
        "  return query\n",
        "  #cursor.execute(query)\n",
        "  #pprint(cursor.fetchall())\n",
        "\n",
        "def insert_data_all(variable_id, data_date, data_value, source_station_id):\n",
        "  query = \"\"\"\n",
        "    INSERT INTO data_all(variable_id,data_date,data_value, station_id)\n",
        "      VALUES({},'{}','{}',{}) on conflict do nothing;\n",
        "    \"\"\".format(\n",
        "        variable_id, data_date, data_value,\n",
        "        \"(SELECT id FROM station WHERE source_station_id = '{}')\".format(source_station_id)\n",
        "        )\n",
        "  return query\n"
      ],
      "execution_count": 208,
      "outputs": []
    },
    {
      "cell_type": "code",
      "metadata": {
        "id": "dhkxnZGZUn6q"
      },
      "source": [
        "connection = None\n",
        "try:\n",
        "    # Connect to an existing database\n",
        "    connection = psycopg2.connect(user=\"climahub\",\n",
        "                                  password=\"climahub$2021\",\n",
        "                                  host=\"138.197.98.178\",\n",
        "                                  port=\"5432\",\n",
        "                                  database=\"climahub\")\n",
        "\n",
        "    # Create a cursor to perform database operations\n",
        "    cursor = connection.cursor()\n",
        "    # Print PostgreSQL details\n",
        "    print(\"🟢 CONNECTION SUCCESFUL: PostgreSQL server information\")\n",
        "    print(connection.get_dsn_parameters(), \"\\n\")\n",
        "    # Executing a SQL query\n",
        "    cursor.execute(\"SELECT version();\")\n",
        "    # Fetch result\n",
        "    record = cursor.fetchone()\n",
        "    print(\"You are connected to - \", record, \"\\n\")\n",
        "\n",
        "    show_tables(cursor)\n",
        "\n",
        "except (Exception, Error) as error:\n",
        "    print(\"❌ Error while connecting to PostgreSQL\", error)\n",
        "\n",
        "\"\"\"\n",
        "finally:\n",
        "    if (connection):\n",
        "        cursor.close()\n",
        "        connection.close()\n",
        "        print(\"PostgreSQL connection is closed\")\"\"\""
      ],
      "execution_count": null,
      "outputs": []
    },
    {
      "cell_type": "code",
      "metadata": {
        "id": "v6IfbdqnL_Gk"
      },
      "source": [
        ""
      ],
      "execution_count": 110,
      "outputs": []
    },
    {
      "cell_type": "markdown",
      "metadata": {
        "id": "eE2mRsP17isn"
      },
      "source": [
        "# Data manipulation and conversion"
      ]
    },
    {
      "cell_type": "code",
      "metadata": {
        "colab": {
          "base_uri": "https://localhost:8080/",
          "height": 421
        },
        "id": "PW4UbUVf7sP3",
        "outputId": "366ec9a1-d689-4551-d832-ed49013dc2c0"
      },
      "source": [
        "dfPA = get_metar();\n",
        "dfPA.set_index(\"codigo\", inplace=True)\n",
        "dfPA"
      ],
      "execution_count": 71,
      "outputs": [
        {
          "output_type": "execute_result",
          "data": {
            "text/html": [
              "<div>\n",
              "<style scoped>\n",
              "    .dataframe tbody tr th:only-of-type {\n",
              "        vertical-align: middle;\n",
              "    }\n",
              "\n",
              "    .dataframe tbody tr th {\n",
              "        vertical-align: top;\n",
              "    }\n",
              "\n",
              "    .dataframe thead th {\n",
              "        text-align: right;\n",
              "    }\n",
              "</style>\n",
              "<table border=\"1\" class=\"dataframe\">\n",
              "  <thead>\n",
              "    <tr style=\"text-align: right;\">\n",
              "      <th></th>\n",
              "      <th>nombre</th>\n",
              "      <th>estaciones</th>\n",
              "    </tr>\n",
              "    <tr>\n",
              "      <th>codigo</th>\n",
              "      <th></th>\n",
              "      <th></th>\n",
              "    </tr>\n",
              "  </thead>\n",
              "  <tbody>\n",
              "    <tr>\n",
              "      <th>DIR_VIENTO</th>\n",
              "      <td>Dirección del Viento</td>\n",
              "      <td>{'EL_COPE': {'latitud': '8.6239', 'longitud': ...</td>\n",
              "    </tr>\n",
              "    <tr>\n",
              "      <th>HORA_SOL</th>\n",
              "      <td>Horas de Brillo Solar</td>\n",
              "      <td>{'CHIMAN 2': {'latitud': '8.7181', 'longitud':...</td>\n",
              "    </tr>\n",
              "    <tr>\n",
              "      <th>HR_PROM</th>\n",
              "      <td>Humedad Relativa Promedio</td>\n",
              "      <td>{'BOQUETE': {'latitud': '8.7550', 'longitud': ...</td>\n",
              "    </tr>\n",
              "    <tr>\n",
              "      <th>LLUVIA</th>\n",
              "      <td>Lluvia Acumulada 24 horas</td>\n",
              "      <td>{'ALTO_PACORA': {'latitud': '9.2456', 'longitu...</td>\n",
              "    </tr>\n",
              "    <tr>\n",
              "      <th>NIVEL</th>\n",
              "      <td>Nivel</td>\n",
              "      <td>{'ANTON_INTERAMERICANA': {'latitud': '8.3994',...</td>\n",
              "    </tr>\n",
              "    <tr>\n",
              "      <th>P_BAROM</th>\n",
              "      <td>Presión Barométrica</td>\n",
              "      <td>{'CHIMAN 2': {'latitud': '8.7181', 'longitud':...</td>\n",
              "    </tr>\n",
              "    <tr>\n",
              "      <th>RAD_SOLAR</th>\n",
              "      <td>Radiación Solar</td>\n",
              "      <td>{'BUENA VISTA': {'latitud': '9.2772', 'longitu...</td>\n",
              "    </tr>\n",
              "    <tr>\n",
              "      <th>RAFAGA</th>\n",
              "      <td>Velocidad Máxima del Viento</td>\n",
              "      <td>{'EL_NARANJAL': {'latitud': '9.1289', 'longitu...</td>\n",
              "    </tr>\n",
              "    <tr>\n",
              "      <th>TEMP_PROM</th>\n",
              "      <td>Temperatura Promedio</td>\n",
              "      <td>{'BOQUETE': {'latitud': '8.7550', 'longitud': ...</td>\n",
              "    </tr>\n",
              "    <tr>\n",
              "      <th>TEMP_SUELO</th>\n",
              "      <td>Temperatura del Suelo</td>\n",
              "      <td>{'EL_COPE': {'latitud': '8.6239', 'longitud': ...</td>\n",
              "    </tr>\n",
              "    <tr>\n",
              "      <th>VEL_VIENTO</th>\n",
              "      <td>Velocidad del Viento</td>\n",
              "      <td>{'EL_COPE': {'latitud': '8.6239', 'longitud': ...</td>\n",
              "    </tr>\n",
              "  </tbody>\n",
              "</table>\n",
              "</div>"
            ],
            "text/plain": [
              "                                 nombre                                         estaciones\n",
              "codigo                                                                                    \n",
              "DIR_VIENTO         Dirección del Viento  {'EL_COPE': {'latitud': '8.6239', 'longitud': ...\n",
              "HORA_SOL          Horas de Brillo Solar  {'CHIMAN 2': {'latitud': '8.7181', 'longitud':...\n",
              "HR_PROM       Humedad Relativa Promedio  {'BOQUETE': {'latitud': '8.7550', 'longitud': ...\n",
              "LLUVIA        Lluvia Acumulada 24 horas  {'ALTO_PACORA': {'latitud': '9.2456', 'longitu...\n",
              "NIVEL                             Nivel  {'ANTON_INTERAMERICANA': {'latitud': '8.3994',...\n",
              "P_BAROM             Presión Barométrica  {'CHIMAN 2': {'latitud': '8.7181', 'longitud':...\n",
              "RAD_SOLAR               Radiación Solar  {'BUENA VISTA': {'latitud': '9.2772', 'longitu...\n",
              "RAFAGA      Velocidad Máxima del Viento  {'EL_NARANJAL': {'latitud': '9.1289', 'longitu...\n",
              "TEMP_PROM          Temperatura Promedio  {'BOQUETE': {'latitud': '8.7550', 'longitud': ...\n",
              "TEMP_SUELO        Temperatura del Suelo  {'EL_COPE': {'latitud': '8.6239', 'longitud': ...\n",
              "VEL_VIENTO         Velocidad del Viento  {'EL_COPE': {'latitud': '8.6239', 'longitud': ..."
            ]
          },
          "metadata": {
            "tags": []
          },
          "execution_count": 71
        }
      ]
    },
    {
      "cell_type": "code",
      "metadata": {
        "colab": {
          "base_uri": "https://localhost:8080/"
        },
        "id": "Qh_fMWbk8bQK",
        "outputId": "75ff8a26-575a-4ad5-d1ac-963aad356a04"
      },
      "source": [
        "for index, row in dfPA.iterrows():\n",
        "    print(index,row['codigo'],' - ',row['nombre'])"
      ],
      "execution_count": 51,
      "outputs": [
        {
          "output_type": "stream",
          "text": [
            "0 DIR_VIENTO  -  Dirección del Viento\n",
            "1 HORA_SOL  -  Horas de Brillo Solar\n",
            "2 HR_PROM  -  Humedad Relativa Promedio\n",
            "3 LLUVIA  -  Lluvia Acumulada 24 horas\n",
            "4 NIVEL  -  Nivel\n",
            "5 P_BAROM  -  Presión Barométrica\n",
            "6 RAD_SOLAR  -  Radiación Solar\n",
            "7 RAFAGA  -  Velocidad Máxima del Viento\n",
            "8 TEMP_PROM  -  Temperatura Promedio\n",
            "9 TEMP_SUELO  -  Temperatura del Suelo\n",
            "10 VEL_VIENTO  -  Velocidad del Viento\n"
          ],
          "name": "stdout"
        }
      ]
    },
    {
      "cell_type": "markdown",
      "metadata": {
        "id": "9RysoXwT9C-s"
      },
      "source": [
        "CLIMAHUB Variables"
      ]
    },
    {
      "cell_type": "code",
      "metadata": {
        "colab": {
          "base_uri": "https://localhost:8080/"
        },
        "id": "xYe8KIHf9FaE",
        "outputId": "3059aeb4-36b6-487e-a48e-07804c45a45a"
      },
      "source": [
        "variables = {\n",
        "  \"DIR_VIENTO\" : [\"WND\", 7],\n",
        "  \"HORA_SOL\" : [\"HSOL\", 14],\n",
        "  \"HR_PROM\" : [\"HRP\", 15],\n",
        "  \"LLUVIA\" : [\"PCP\t\", 5],\n",
        "  \"NIVEL\" : [\"LEV\", 13],\n",
        "  \"P_BAROM\" : [\"PRS\", 10],\n",
        "  \"RAD_SOLAR\" : [\"RSOL\", 16],\n",
        "  \"RAFAGA\" : [\"WNG\", 9],\n",
        "  \"TEMP_PROM\" : [\"TMP\", 3],\n",
        "  \"VEL_VIENTO\" : [\"WNS\", 8]\n",
        "}\n",
        "variables"
      ],
      "execution_count": 198,
      "outputs": [
        {
          "output_type": "execute_result",
          "data": {
            "text/plain": [
              "{'DIR_VIENTO': ['WND', 7],\n",
              " 'HORA_SOL': ['HSOL', 14],\n",
              " 'HR_PROM': ['HRP', 15],\n",
              " 'LLUVIA': ['PCP\\t', 5],\n",
              " 'NIVEL': ['LEV', 13],\n",
              " 'P_BAROM': ['PRS', 10],\n",
              " 'RAD_SOLAR': ['RSOL', 16],\n",
              " 'RAFAGA': ['WNG', 9],\n",
              " 'TEMP_PROM': ['TMP', 3],\n",
              " 'VEL_VIENTO': ['WNS', 8]}"
            ]
          },
          "metadata": {
            "tags": []
          },
          "execution_count": 198
        }
      ]
    },
    {
      "cell_type": "code",
      "metadata": {
        "id": "Sh_G3_gPC1KU"
      },
      "source": [
        "def convert_date(date):\n",
        "  #print(date)\n",
        "  if(date[1:2] == '/'):\n",
        "    date='0'+date\n",
        "  if(date[17:19] == \"AM\"):\n",
        "    #print(\"AM\")\n",
        "    time = date[11:16]+\":00\"\n",
        "  else:\n",
        "    #print(\"PM\")\n",
        "    hour = int(date[11:13])\n",
        "    if(hour == 12):\n",
        "      time = str(hour)+date[13:16]+\":00\"\n",
        "    else:\n",
        "      time = str(hour+12)+date[13:16]+\":00\"\n",
        "\n",
        "  return date[6:10]+'-'+date[3:5]+'-'+date[0:2]+' '+time\n",
        "\n",
        "def clean_valor(valor):\n",
        "  valor = re.sub(r\"watt/m2| |/|m/s|ºC|mbar|msnm|m|%|°\", '', valor)\n",
        "  return valor"
      ],
      "execution_count": 253,
      "outputs": []
    },
    {
      "cell_type": "markdown",
      "metadata": {
        "id": "w9_NSJUi4Ald"
      },
      "source": [
        "# INSERT"
      ]
    },
    {
      "cell_type": "code",
      "metadata": {
        "id": "dpAmkQ4c4CUr"
      },
      "source": [
        "# iterating recognized variables to look for into df\n",
        "GRAND_QUERY = ''\n",
        "for key, value in variables.items():\n",
        "  print(key,value[0], value[1])\n",
        "  cur_row = dfPA.loc[key].to_dict()\n",
        "  print('Iterando:', cur_row[\"nombre\"], '\\n')\n",
        "  \n",
        "  #iterating across \"estaciones\"\n",
        "  for k, v, in cur_row[\"estaciones\"].items():\n",
        "    print(k,v)\n",
        "    GRAND_QUERY+=insert_station(v[\"nombre\"], v[\"latitud\"], v[\"longitud\"], v[\"numero_estacion\"], k)\n",
        "    GRAND_QUERY+=insert_data_all(value[1], convert_date(v[\"sensor_fecha\"]), clean_valor(v[\"sensor_valor\"]), v[\"numero_estacion\"])\n",
        "    \n",
        "  cursor.execute(GRAND_QUERY)\n",
        "  connection.commit()\n",
        "\n",
        "cursor.close()\n",
        "connection.close()\n",
        "print(\"PostgreSQL connection is closed\")"
      ],
      "execution_count": null,
      "outputs": []
    },
    {
      "cell_type": "code",
      "metadata": {
        "colab": {
          "base_uri": "https://localhost:8080/",
          "height": 35
        },
        "id": "0Bcx3x3uiIWk",
        "outputId": "747cea86-c914-4871-8fb9-038c9f74dd9a"
      },
      "source": [
        ""
      ],
      "execution_count": 202,
      "outputs": [
        {
          "output_type": "execute_result",
          "data": {
            "application/vnd.google.colaboratory.intrinsic+json": {
              "type": "string"
            },
            "text/plain": [
              "'01/06/2021 08:00 AM'"
            ]
          },
          "metadata": {
            "tags": []
          },
          "execution_count": 202
        }
      ]
    },
    {
      "cell_type": "markdown",
      "metadata": {
        "id": "grQmhROurf7S"
      },
      "source": [
        "CLEAN"
      ]
    },
    {
      "cell_type": "code",
      "metadata": {
        "colab": {
          "base_uri": "https://localhost:8080/"
        },
        "id": "0nTPXfG2rjLv",
        "outputId": "c5730d97-0366-41c7-e495-276ed9b78f37"
      },
      "source": [
        "# ------------------------------------\n",
        "# -------------- imports -------------\n",
        "# ------------------------------------\n",
        "import psycopg2 \n",
        "from psycopg2 import Error\n",
        "from pprint import pprint \n",
        "import requests\n",
        "import json\n",
        "import pandas as pd\n",
        "import re \n",
        "\n",
        "# ------------------------------------\n",
        "# ------------- functions ------------\n",
        "# ------------------------------------\n",
        "def insert_station(station_name, latitude, longitude, source_station_id, original_id):\n",
        "  source_id = 2 # ETESA - HIDROMET PA\n",
        "  query = \"\"\"\n",
        "    insert into station (source_id,station_name,latitude,longitude, source_station_id, original_id) \n",
        "      values ( '{}', '{}', '{}', '{}', '{}', '{}') on conflict do nothing;\n",
        "    \"\"\".format(source_id, station_name, latitude, longitude, source_station_id, original_id)\n",
        "  return query\n",
        "  #cursor.execute(query)\n",
        "  #pprint(cursor.fetchall())\n",
        "\n",
        "def insert_data_all(variable_id, data_date, data_value, source_station_id):\n",
        "  query = \"\"\"\n",
        "    INSERT INTO data_all(variable_id,data_date,data_value, station_id)\n",
        "      VALUES({},'{}','{}',{}) on conflict do nothing;\n",
        "    \"\"\".format(\n",
        "        variable_id, data_date, data_value,\n",
        "        \"(SELECT id FROM station WHERE source_station_id = '{}')\".format(source_station_id)\n",
        "        )\n",
        "  return query\n",
        "def convert_date(date):\n",
        "  #print(date)\n",
        "  if(date[1:2] == '/'):\n",
        "    date='0'+date\n",
        "  if(date[17:19] == \"AM\"):\n",
        "    #print(\"AM\")\n",
        "    time = date[11:16]+\":00\"\n",
        "  else:\n",
        "    #print(\"PM\")\n",
        "    hour = int(date[11:13])\n",
        "    if(hour == 12):\n",
        "      time = str(hour)+date[13:16]+\":00\"\n",
        "    else:\n",
        "      time = str(hour+12)+date[13:16]+\":00\"\n",
        "\n",
        "  return date[6:10]+'-'+date[3:5]+'-'+date[0:2]+' '+time\n",
        "\n",
        "def clean_valor(valor):\n",
        "  valor = re.sub(r\"watt/m2| |/|m/s|ºC|mbar|msnm|m|%|°\", '', valor)\n",
        "  return valor\n",
        "# manipulate data functions\n",
        "def get_metar(zoom = 18, filter = 'prior', density = 0, taf = 'false', bbox = '-104.94370625,1.7950665583439,-60.998393750001,28.156120443236'):\n",
        "  queryParams = {\n",
        "      'zoom': zoom,\n",
        "      'filter': filter,\n",
        "      'density': density,\n",
        "      'taf': taf,\n",
        "      'bbox': bbox\n",
        "  }\n",
        "  response = requests.get(\"https://927d1d30.us-south.apigw.appdomain.cloud/hidromet\", params=queryParams)\n",
        "  #print(response.json)\n",
        "  data = json.loads(response.text)\n",
        "  data = data[\"sensores\"]\n",
        "  #pprint(data)\n",
        "\n",
        "  #getting column names\n",
        "  #variables = data[\"features\"][1].keys()\n",
        "  #print(variables)\n",
        "\n",
        "  df = pd.DataFrame(data)\n",
        "  #display(df)\n",
        "  return df;\n",
        "\n",
        "# ------------------------------------\n",
        "# ------------ connection ------------\n",
        "# ------------------------------------  \n",
        "connection = None\n",
        "try:\n",
        "    # Connect to an existing database\n",
        "    connection = psycopg2.connect(user=\"climahub\",\n",
        "                                  password=\"climahub$2021\",\n",
        "                                  host=\"138.197.98.178\",\n",
        "                                  port=\"5432\",\n",
        "                                  database=\"climahub\")\n",
        "\n",
        "    # Create a cursor to perform database operations\n",
        "    cursor = connection.cursor()\n",
        "    # Print PostgreSQL details\n",
        "    print(\"🟢 CONNECTION SUCCESFUL: PostgreSQL server information\")\n",
        "    print(connection.get_dsn_parameters(), \"\\n\")\n",
        "    # Executing a SQL query\n",
        "    cursor.execute(\"SELECT version();\")\n",
        "    # Fetch result\n",
        "    record = cursor.fetchone()\n",
        "    print(\"You are connected to - \", record, \"\\n\")\n",
        "\n",
        "except (Exception, Error) as error:\n",
        "    print(\"❌ Error while connecting to PostgreSQL\", error)\n",
        "  \n",
        "# ------------------------------------\n",
        "# -------------- metar ---------------\n",
        "# ------------------------------------\n",
        "dfPA = get_metar();\n",
        "dfPA.set_index(\"codigo\", inplace=True)\n",
        "variables = {\n",
        "  \"DIR_VIENTO\" : [\"WND\", 7],\n",
        "  \"HORA_SOL\" : [\"HSOL\", 14],\n",
        "  \"HR_PROM\" : [\"HRP\", 15],\n",
        "  \"LLUVIA\" : [\"PCP\t\", 5],\n",
        "  \"NIVEL\" : [\"LEV\", 13],\n",
        "  \"P_BAROM\" : [\"PRS\", 10],\n",
        "  \"RAD_SOLAR\" : [\"RSOL\", 16],\n",
        "  \"RAFAGA\" : [\"WNG\", 9],\n",
        "  \"TEMP_PROM\" : [\"TMP\", 3],\n",
        "  \"VEL_VIENTO\" : [\"WNS\", 8]\n",
        "}\n",
        "# iterating recognized variables to look for into df\n",
        "GRAND_QUERY = ''\n",
        "for key, value in variables.items():\n",
        "  #print(key,value[0], value[1])\n",
        "  cur_row = dfPA.loc[key].to_dict()\n",
        "  #print('Iterando:', cur_row[\"nombre\"], '\\n')\n",
        "  \n",
        "  #iterating across \"estaciones\"\n",
        "  for k, v, in cur_row[\"estaciones\"].items():\n",
        "    #print(k,v)\n",
        "    GRAND_QUERY+=insert_station(v[\"nombre\"], v[\"latitud\"], v[\"longitud\"], v[\"numero_estacion\"], k)\n",
        "    GRAND_QUERY+=insert_data_all(value[1], convert_date(v[\"sensor_fecha\"]), clean_valor(v[\"sensor_valor\"]), v[\"numero_estacion\"])\n",
        "    \n",
        "  cursor.execute(GRAND_QUERY)\n",
        "  connection.commit()\n",
        "\n",
        "cursor.close()\n",
        "connection.close()\n",
        "print(\"PostgreSQL connection is closed\")"
      ],
      "execution_count": 5,
      "outputs": [
        {
          "output_type": "stream",
          "text": [
            "🟢 CONNECTION SUCCESFUL: PostgreSQL server information\n",
            "{'user': 'climahub', 'dbname': 'climahub', 'host': '138.197.98.178', 'port': '5432', 'tty': '', 'options': '', 'sslmode': 'prefer', 'sslcompression': '0', 'krbsrvname': 'postgres', 'target_session_attrs': 'any'} \n",
            "\n",
            "You are connected to -  ('PostgreSQL 13.2 (Debian 13.2-1.pgdg100+1) on x86_64-pc-linux-gnu, compiled by gcc (Debian 8.3.0-6) 8.3.0, 64-bit',) \n",
            "\n",
            "PostgreSQL connection is closed\n"
          ],
          "name": "stdout"
        }
      ]
    }
  ]
}