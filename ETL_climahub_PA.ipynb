{
  "nbformat": 4,
  "nbformat_minor": 0,
  "metadata": {
    "colab": {
      "name": "ETL-climahub-PA.ipynb",
      "provenance": [],
      "collapsed_sections": [],
      "toc_visible": true,
      "include_colab_link": true
    },
    "kernelspec": {
      "name": "python3",
      "display_name": "Python 3"
    },
    "language_info": {
      "name": "python"
    }
  },
  "cells": [
    {
      "cell_type": "markdown",
      "metadata": {
        "id": "view-in-github",
        "colab_type": "text"
      },
      "source": [
        "<a href=\"https://colab.research.google.com/github/ucguate/climahub-etl/blob/panama/ETL_climahub_PA.ipynb\" target=\"_parent\"><img src=\"https://colab.research.google.com/assets/colab-badge.svg\" alt=\"Open In Colab\"/></a>"
      ]
    },
    {
      "cell_type": "code",
      "metadata": {
        "colab": {
          "base_uri": "https://localhost:8080/"
        },
        "id": "niNBcNP-Qd2S",
        "outputId": "caa2b01d-a0d2-45f0-ec0c-b6d4454daba2"
      },
      "source": [
        "# Psycopg2 module installation\n",
        "!pip install psycopg2\n",
        "!pip install requests"
      ],
      "execution_count": null,
      "outputs": [
        {
          "output_type": "stream",
          "text": [
            "Requirement already satisfied: psycopg2 in /usr/local/lib/python3.7/dist-packages (2.7.6.1)\n",
            "Requirement already satisfied: requests in /usr/local/lib/python3.7/dist-packages (2.23.0)\n",
            "Requirement already satisfied: idna<3,>=2.5 in /usr/local/lib/python3.7/dist-packages (from requests) (2.10)\n",
            "Requirement already satisfied: urllib3!=1.25.0,!=1.25.1,<1.26,>=1.21.1 in /usr/local/lib/python3.7/dist-packages (from requests) (1.24.3)\n",
            "Requirement already satisfied: chardet<4,>=3.0.2 in /usr/local/lib/python3.7/dist-packages (from requests) (3.0.4)\n",
            "Requirement already satisfied: certifi>=2017.4.17 in /usr/local/lib/python3.7/dist-packages (from requests) (2020.12.5)\n"
          ],
          "name": "stdout"
        }
      ]
    },
    {
      "cell_type": "code",
      "metadata": {
        "id": "QNCBvmeqSNGb",
        "colab": {
          "base_uri": "https://localhost:8080/"
        },
        "outputId": "f26d20e0-e4a1-4ad9-ff84-11e27695d09b"
      },
      "source": [
        "# importing psycopg2 \n",
        "import psycopg2 \n",
        "from psycopg2 import Error\n",
        "from pprint import pprint\n",
        "# import requests for rest requests \n",
        "import requests\n",
        "# importing json module\n",
        "import json\n",
        "# importing pandas to manage Dictionaries as pandas DataFrames\n",
        "import pandas as pd"
      ],
      "execution_count": null,
      "outputs": [
        {
          "output_type": "stream",
          "text": [
            "/usr/local/lib/python3.7/dist-packages/psycopg2/__init__.py:144: UserWarning: The psycopg2 wheel package will be renamed from release 2.8; in order to keep installing from binary please use \"pip install psycopg2-binary\" instead. For details see: <http://initd.org/psycopg/docs/install.html#binary-install-from-pypi>.\n",
            "  \"\"\")\n"
          ],
          "name": "stderr"
        }
      ]
    },
    {
      "cell_type": "code",
      "metadata": {
        "id": "L9zZWA0CV-Xe"
      },
      "source": [
        "# creating querying functions\n",
        "def show_tables(cursor):\n",
        "    query = \"\"\"\n",
        "      SELECT *\n",
        "      FROM pg_catalog.pg_tables\n",
        "      WHERE schemaname != 'pg_catalog' AND \n",
        "          schemaname != 'information_schema';\n",
        "    \"\"\"\n",
        "    cursor.execute(query)\n",
        "    pprint(cursor.fetchall())\n",
        "\n",
        "def get_table_cols(table_name):\n",
        "    query = \"\"\"\n",
        "    SELECT column_name\n",
        "      FROM information_schema.columns\n",
        "        WHERE table_schema = 'public'\n",
        "          AND table_name   = '{}'\n",
        "     ;\n",
        "    \"\"\".format(table_name)\n",
        "\n",
        "    cursor.execute(query)\n",
        "    data = cursor.fetchall()\n",
        "    pprint(data)\n"
      ],
      "execution_count": null,
      "outputs": []
    },
    {
      "cell_type": "code",
      "metadata": {
        "colab": {
          "base_uri": "https://localhost:8080/",
          "height": 538
        },
        "id": "-vuBhvhaZDXz",
        "outputId": "09903333-24d3-4adc-81c5-efc11c4cc375"
      },
      "source": [
        "# manipulate data functions\n",
        "def get_metar(zoom = 18, filter = 'prior', density = 0, taf = 'false', bbox = '-104.94370625,1.7950665583439,-60.998393750001,28.156120443236'):\n",
        "  queryParams = {\n",
        "      'zoom': zoom,\n",
        "      'filter': filter,\n",
        "      'density': density,\n",
        "      'taf': taf,\n",
        "      'bbox': bbox\n",
        "  }\n",
        "  response = requests.get(\"https://927d1d30.us-south.apigw.appdomain.cloud/metar-json\", params=queryParams)\n",
        "  #print(response.json)\n",
        "  data = json.loads(response.text)\n",
        "  header = data[\"features\"][0]\n",
        "  pprint(header)\n",
        "\n",
        "  #getting column names\n",
        "  variables = data[\"features\"][1].keys()\n",
        "  print(variables)\n",
        "\n",
        "  df = pd.DataFrame(data[\"features\"][1:], columns = variables)\n",
        "  display(df)\n",
        "get_metar()"
      ],
      "execution_count": null,
      "outputs": [
        {
          "output_type": "stream",
          "text": [
            "{'properties': {'bbox': '-104.9437,1.7951,-60.9984,28.1561',\n",
            "                'beg_time': '1620064660',\n",
            "                'data': 'METAR',\n",
            "                'end_time': '1620071860',\n",
            "                'wrap': ''},\n",
            " 'type': 'Feature'}\n",
            "dict_keys(['type', 'id', 'properties', 'geometry'])\n"
          ],
          "name": "stdout"
        },
        {
          "output_type": "display_data",
          "data": {
            "text/html": [
              "<div>\n",
              "<style scoped>\n",
              "    .dataframe tbody tr th:only-of-type {\n",
              "        vertical-align: middle;\n",
              "    }\n",
              "\n",
              "    .dataframe tbody tr th {\n",
              "        vertical-align: top;\n",
              "    }\n",
              "\n",
              "    .dataframe thead th {\n",
              "        text-align: right;\n",
              "    }\n",
              "</style>\n",
              "<table border=\"1\" class=\"dataframe\">\n",
              "  <thead>\n",
              "    <tr style=\"text-align: right;\">\n",
              "      <th></th>\n",
              "      <th>type</th>\n",
              "      <th>id</th>\n",
              "      <th>properties</th>\n",
              "      <th>geometry</th>\n",
              "    </tr>\n",
              "  </thead>\n",
              "  <tbody>\n",
              "    <tr>\n",
              "      <th>0</th>\n",
              "      <td>Feature</td>\n",
              "      <td>410625659</td>\n",
              "      <td>{'data': 'METAR', 'id': 'KMIA', 'site': 'Miami...</td>\n",
              "      <td>{'type': 'Point', 'coordinates': [-80.317, 25....</td>\n",
              "    </tr>\n",
              "    <tr>\n",
              "      <th>1</th>\n",
              "      <td>Feature</td>\n",
              "      <td>410596229</td>\n",
              "      <td>{'data': 'METAR', 'id': 'MMMD', 'site': 'Merid...</td>\n",
              "      <td>{'type': 'Point', 'coordinates': [-89.659, 20....</td>\n",
              "    </tr>\n",
              "    <tr>\n",
              "      <th>2</th>\n",
              "      <td>Feature</td>\n",
              "      <td>410604027</td>\n",
              "      <td>{'data': 'METAR', 'id': 'MMMX', 'site': 'Mexic...</td>\n",
              "      <td>{'type': 'Point', 'coordinates': [-99.072, 19....</td>\n",
              "    </tr>\n",
              "    <tr>\n",
              "      <th>3</th>\n",
              "      <td>Feature</td>\n",
              "      <td>410590815</td>\n",
              "      <td>{'data': 'METAR', 'id': 'MROC', 'site': 'San J...</td>\n",
              "      <td>{'type': 'Point', 'coordinates': [-84.218, 9.9...</td>\n",
              "    </tr>\n",
              "    <tr>\n",
              "      <th>4</th>\n",
              "      <td>Feature</td>\n",
              "      <td>410594301</td>\n",
              "      <td>{'data': 'METAR', 'id': 'MWCR', 'site': 'Grand...</td>\n",
              "      <td>{'type': 'Point', 'coordinates': [-81.357, 19....</td>\n",
              "    </tr>\n",
              "    <tr>\n",
              "      <th>...</th>\n",
              "      <td>...</td>\n",
              "      <td>...</td>\n",
              "      <td>...</td>\n",
              "      <td>...</td>\n",
              "    </tr>\n",
              "    <tr>\n",
              "      <th>241</th>\n",
              "      <td>Feature</td>\n",
              "      <td>410626587</td>\n",
              "      <td>{'data': 'METAR', 'id': 'KCLW', 'site': 'Clear...</td>\n",
              "      <td>{'type': 'Point', 'coordinates': [-82.756, 27....</td>\n",
              "    </tr>\n",
              "    <tr>\n",
              "      <th>242</th>\n",
              "      <td>Feature</td>\n",
              "      <td>410626113</td>\n",
              "      <td>{'data': 'METAR', 'id': 'KNQX', 'site': 'Key W...</td>\n",
              "      <td>{'type': 'Point', 'coordinates': [-81.683, 24....</td>\n",
              "    </tr>\n",
              "    <tr>\n",
              "      <th>243</th>\n",
              "      <td>Feature</td>\n",
              "      <td>410591613</td>\n",
              "      <td>{'data': 'METAR', 'id': 'KPMP', 'site': 'Pompa...</td>\n",
              "      <td>{'type': 'Point', 'coordinates': [-80.111, 26....</td>\n",
              "    </tr>\n",
              "    <tr>\n",
              "      <th>244</th>\n",
              "      <td>Feature</td>\n",
              "      <td>410620141</td>\n",
              "      <td>{'data': 'METAR', 'id': 'KRAS', 'site': 'Port ...</td>\n",
              "      <td>{'type': 'Point', 'coordinates': [-97.085, 27....</td>\n",
              "    </tr>\n",
              "    <tr>\n",
              "      <th>245</th>\n",
              "      <td>Feature</td>\n",
              "      <td>410618633</td>\n",
              "      <td>{'data': 'METAR', 'id': 'KTPF', 'site': 'Tampa...</td>\n",
              "      <td>{'type': 'Point', 'coordinates': [-82.452, 27....</td>\n",
              "    </tr>\n",
              "  </tbody>\n",
              "</table>\n",
              "<p>246 rows × 4 columns</p>\n",
              "</div>"
            ],
            "text/plain": [
              "        type  ...                                           geometry\n",
              "0    Feature  ...  {'type': 'Point', 'coordinates': [-80.317, 25....\n",
              "1    Feature  ...  {'type': 'Point', 'coordinates': [-89.659, 20....\n",
              "2    Feature  ...  {'type': 'Point', 'coordinates': [-99.072, 19....\n",
              "3    Feature  ...  {'type': 'Point', 'coordinates': [-84.218, 9.9...\n",
              "4    Feature  ...  {'type': 'Point', 'coordinates': [-81.357, 19....\n",
              "..       ...  ...                                                ...\n",
              "241  Feature  ...  {'type': 'Point', 'coordinates': [-82.756, 27....\n",
              "242  Feature  ...  {'type': 'Point', 'coordinates': [-81.683, 24....\n",
              "243  Feature  ...  {'type': 'Point', 'coordinates': [-80.111, 26....\n",
              "244  Feature  ...  {'type': 'Point', 'coordinates': [-97.085, 27....\n",
              "245  Feature  ...  {'type': 'Point', 'coordinates': [-82.452, 27....\n",
              "\n",
              "[246 rows x 4 columns]"
            ]
          },
          "metadata": {
            "tags": []
          }
        }
      ]
    },
    {
      "cell_type": "markdown",
      "metadata": {
        "id": "FrZSj2M8ievC"
      },
      "source": [
        "# DATABASE CONNECTION and Queries Execution"
      ]
    },
    {
      "cell_type": "code",
      "metadata": {
        "colab": {
          "base_uri": "https://localhost:8080/"
        },
        "id": "dhkxnZGZUn6q",
        "outputId": "efed1c63-ccba-4c91-b035-0559a14a9808"
      },
      "source": [
        "connection = None\n",
        "try:\n",
        "    # Connect to an existing database\n",
        "    connection = psycopg2.connect(user=\"climahub\",\n",
        "                                  password=\"climahub$2021\",\n",
        "                                  host=\"138.197.98.178\",\n",
        "                                  port=\"5432\",\n",
        "                                  database=\"climahub\")\n",
        "\n",
        "    # Create a cursor to perform database operations\n",
        "    cursor = connection.cursor()\n",
        "    # Print PostgreSQL details\n",
        "    print(\"🟢 CONNECTION SUCCESFUL: PostgreSQL server information\")\n",
        "    print(connection.get_dsn_parameters(), \"\\n\")\n",
        "    # Executing a SQL query\n",
        "    cursor.execute(\"SELECT version();\")\n",
        "    # Fetch result\n",
        "    record = cursor.fetchone()\n",
        "    print(\"You are connected to - \", record, \"\\n\")\n",
        "\n",
        "    show_tables(cursor)\n",
        "    get_table_cols('station')\n",
        "\n",
        "except (Exception, Error) as error:\n",
        "    print(\"❌ Error while connecting to PostgreSQL\", error)\n",
        "finally:\n",
        "    if (connection):\n",
        "        cursor.close()\n",
        "        connection.close()\n",
        "        print(\"PostgreSQL connection is closed\")"
      ],
      "execution_count": null,
      "outputs": [
        {
          "output_type": "stream",
          "text": [
            "🟢 CONNECTION SUCCESFUL: PostgreSQL server information\n",
            "{'user': 'climahub', 'dbname': 'climahub', 'host': '138.197.98.178', 'port': '5432', 'tty': '', 'options': '', 'sslmode': 'prefer', 'sslcompression': '0', 'krbsrvname': 'postgres', 'target_session_attrs': 'any'} \n",
            "\n",
            "You are connected to -  ('PostgreSQL 13.2 (Debian 13.2-1.pgdg100+1) on x86_64-pc-linux-gnu, compiled by gcc (Debian 8.3.0-6) 8.3.0, 64-bit',) \n",
            "\n",
            "[('public', 'source', 'climahub', None, True, False, True, False),\n",
            " ('public', 'station', 'climahub', None, True, False, True, False),\n",
            " ('public', 'freq', 'climahub', None, True, False, True, False),\n",
            " ('public', 'variable', 'climahub', None, True, False, True, False),\n",
            " ('public', 'data', 'climahub', None, True, False, True, False),\n",
            " ('public', 'data_last', 'climahub', None, True, False, True, False),\n",
            " ('public', 'alert_source', 'climahub', None, True, False, True, False),\n",
            " ('public', 'alerts', 'climahub', None, True, False, True, False)]\n",
            "[('id',),\n",
            " ('name',),\n",
            " ('type',),\n",
            " ('source_id',),\n",
            " ('created_at',),\n",
            " ('latitude',),\n",
            " ('longitude',),\n",
            " ('altitude',),\n",
            " ('source_station_id',),\n",
            " ('original_id',)]\n",
            "PostgreSQL connection is closed\n"
          ],
          "name": "stdout"
        }
      ]
    }
  ]
}