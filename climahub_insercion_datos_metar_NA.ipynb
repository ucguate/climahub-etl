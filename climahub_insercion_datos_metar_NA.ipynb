{
  "nbformat": 4,
  "nbformat_minor": 0,
  "metadata": {
    "colab": {
      "name": "climahub_insercion_datos_metar_NA.ipynb",
      "provenance": [],
      "collapsed_sections": [],
      "include_colab_link": true
    },
    "kernelspec": {
      "name": "python3",
      "display_name": "Python 3"
    },
    "language_info": {
      "name": "python"
    }
  },
  "cells": [
    {
      "cell_type": "markdown",
      "metadata": {
        "id": "view-in-github",
        "colab_type": "text"
      },
      "source": [
        "<a href=\"https://colab.research.google.com/github/ucguate/climahub-etl/blob/NA/climahub_insercion_datos_metar_NA.ipynb\" target=\"_parent\"><img src=\"https://colab.research.google.com/assets/colab-badge.svg\" alt=\"Open In Colab\"/></a>"
      ]
    },
    {
      "cell_type": "code",
      "metadata": {
        "id": "niNBcNP-Qd2S",
        "colab": {
          "base_uri": "https://localhost:8080/"
        },
        "outputId": "30073fa5-07b8-4956-c4e1-bd3ba911176f"
      },
      "source": [
        "# Psycopg2 module installation\n",
        "!pip install psycopg2\n",
        "!pip install requests"
      ],
      "execution_count": 1,
      "outputs": [
        {
          "output_type": "stream",
          "text": [
            "Requirement already satisfied: psycopg2 in /usr/local/lib/python3.7/dist-packages (2.7.6.1)\n",
            "Requirement already satisfied: requests in /usr/local/lib/python3.7/dist-packages (2.23.0)\n",
            "Requirement already satisfied: certifi>=2017.4.17 in /usr/local/lib/python3.7/dist-packages (from requests) (2021.5.30)\n",
            "Requirement already satisfied: chardet<4,>=3.0.2 in /usr/local/lib/python3.7/dist-packages (from requests) (3.0.4)\n",
            "Requirement already satisfied: idna<3,>=2.5 in /usr/local/lib/python3.7/dist-packages (from requests) (2.10)\n",
            "Requirement already satisfied: urllib3!=1.25.0,!=1.25.1,<1.26,>=1.21.1 in /usr/local/lib/python3.7/dist-packages (from requests) (1.24.3)\n"
          ],
          "name": "stdout"
        }
      ]
    },
    {
      "cell_type": "code",
      "metadata": {
        "id": "QNCBvmeqSNGb",
        "colab": {
          "base_uri": "https://localhost:8080/"
        },
        "outputId": "ef7d6d18-e519-4464-8f6f-ac201ce3af6d"
      },
      "source": [
        "# importing psycopg2 \n",
        "import psycopg2 \n",
        "from psycopg2 import Error\n",
        "from pprint import pprint\n",
        "# import requests for rest requests \n",
        "import requests\n",
        "# importing json module\n",
        "import json\n",
        "# importing pandas to manage Dictionaries as pandas DataFrames\n",
        "import pandas as pd"
      ],
      "execution_count": 2,
      "outputs": [
        {
          "output_type": "stream",
          "text": [
            "/usr/local/lib/python3.7/dist-packages/psycopg2/__init__.py:144: UserWarning: The psycopg2 wheel package will be renamed from release 2.8; in order to keep installing from binary please use \"pip install psycopg2-binary\" instead. For details see: <http://initd.org/psycopg/docs/install.html#binary-install-from-pypi>.\n",
            "  \"\"\")\n"
          ],
          "name": "stderr"
        }
      ]
    },
    {
      "cell_type": "code",
      "metadata": {
        "id": "L9zZWA0CV-Xe"
      },
      "source": [
        "# creating querying functions\n",
        "def show_tables(cursor):\n",
        "    query = \"\"\"\n",
        "      SELECT *\n",
        "      FROM pg_catalog.pg_tables\n",
        "      WHERE schemaname != 'pg_catalog' AND \n",
        "          schemaname != 'information_schema';\n",
        "    \"\"\"\n",
        "    cursor.execute(query)\n",
        "    pprint(cursor.fetchall())\n",
        "\n",
        "def get_table_cols(table_name):\n",
        "    query = \"\"\"\n",
        "    SELECT column_name\n",
        "      FROM information_schema.columns\n",
        "        WHERE table_schema = 'public'\n",
        "          AND table_name   = '{}'\n",
        "     ;\n",
        "    \"\"\".format(table_name)\n",
        "\n",
        "    cursor.execute(query)\n",
        "    data = cursor.fetchall()\n",
        "    pprint(data)\n",
        "\n",
        "def conn_close():\n",
        "    if (connection):\n",
        "        cursor.close()\n",
        "        connection.close()\n",
        "        print(\"PostgreSQL connection is closed\")\n"
      ],
      "execution_count": 3,
      "outputs": []
    },
    {
      "cell_type": "code",
      "metadata": {
        "id": "-vuBhvhaZDXz"
      },
      "source": [
        "# manipulate data functions\n",
        "def get_metar(zoom = 18, filter = 'prior', density = 0, taf = 'false', bbox = '-104.94370625,1.7950665583439,-60.998393750001,28.156120443236'):\n",
        "  queryParams = {\n",
        "      'zoom': zoom,\n",
        "      'filter': filter,\n",
        "      'density': density,\n",
        "      'taf': taf,\n",
        "      'bbox': bbox\n",
        "  }\n",
        "  response = requests.get(\"https://927d1d30.us-south.apigw.appdomain.cloud/metar-json\", params=queryParams)\n",
        "  #print(response.json)\n",
        "  data = json.loads(response.text)\n",
        "  header = data[\"features\"][0]\n",
        "  pprint(header)\n",
        "\n",
        "  #getting column names\n",
        "  variables = data[\"features\"][1].keys()\n",
        "  print(variables)\n",
        "\n",
        "  df = pd.DataFrame(data[\"features\"][1:], columns = variables)\n",
        "  return df\n"
      ],
      "execution_count": 4,
      "outputs": []
    },
    {
      "cell_type": "markdown",
      "metadata": {
        "id": "FrZSj2M8ievC"
      },
      "source": [
        "# DATABASE CONNECTION and Queries Execution"
      ]
    },
    {
      "cell_type": "code",
      "metadata": {
        "colab": {
          "base_uri": "https://localhost:8080/"
        },
        "id": "dhkxnZGZUn6q",
        "outputId": "94306482-fd4c-4a28-898c-890eff2eaada"
      },
      "source": [
        "connection = None\n",
        "try:\n",
        "    # Connect to an existing database\n",
        "    connection = psycopg2.connect(user=\"climahub\",\n",
        "                                  password=\"climahub$2021\",\n",
        "                                  host=\"138.197.98.178\",\n",
        "                                  port=\"5432\",\n",
        "                                  database=\"climahub\")\n",
        "\n",
        "    # Create a cursor to perform database operations\n",
        "    cursor = connection.cursor()\n",
        "    # Print PostgreSQL details\n",
        "    print(\"🟢 CONNECTION SUCCESFUL: PostgreSQL server information\")\n",
        "    print(connection.get_dsn_parameters(), \"\\n\")\n",
        "    # Executing a SQL query\n",
        "    cursor.execute(\"SELECT version();\")\n",
        "    # Fetch result\n",
        "    record = cursor.fetchone()\n",
        "    print(\"You are connected to - \", record, \"\\n\")\n",
        "\n",
        "    show_tables(cursor)\n",
        "    get_table_cols('station')\n",
        "\n",
        "except (Exception, Error) as error:\n",
        "    print(\"❌ Error while connecting to PostgreSQL\", error)\n"
      ],
      "execution_count": 5,
      "outputs": [
        {
          "output_type": "stream",
          "text": [
            "🟢 CONNECTION SUCCESFUL: PostgreSQL server information\n",
            "{'user': 'climahub', 'dbname': 'climahub', 'host': '138.197.98.178', 'port': '5432', 'tty': '', 'options': '', 'sslmode': 'prefer', 'sslcompression': '0', 'krbsrvname': 'postgres', 'target_session_attrs': 'any'} \n",
            "\n",
            "You are connected to -  ('PostgreSQL 13.2 (Debian 13.2-1.pgdg100+1) on x86_64-pc-linux-gnu, compiled by gcc (Debian 8.3.0-6) 8.3.0, 64-bit',) \n",
            "\n",
            "[('public', 'alert_types', 'climahub', None, False, False, False, False),\n",
            " ('public', 'user_groups', 'climahub', None, False, False, False, False),\n",
            " ('public', 'users', 'climahub', None, True, False, False, False),\n",
            " ('public', 'source', 'climahub', None, True, False, True, False),\n",
            " ('public', 'station', 'climahub', None, True, False, True, False),\n",
            " ('public', 'freq', 'climahub', None, True, False, True, False),\n",
            " ('public', 'variable', 'climahub', None, True, False, True, False),\n",
            " ('public', 'data_all', 'climahub', None, True, False, True, False),\n",
            " ('public', 'data_last', 'climahub', None, True, False, True, False),\n",
            " ('public', 'alert_source', 'climahub', None, True, False, True, False),\n",
            " ('public', 'alerts', 'climahub', None, True, False, True, False),\n",
            " ('public', 'alert_config', 'climahub', None, True, False, False, False)]\n",
            "[('id',),\n",
            " ('station_name',),\n",
            " ('station_type',),\n",
            " ('source_id',),\n",
            " ('created_at',),\n",
            " ('latitude',),\n",
            " ('longitude',),\n",
            " ('altitude',),\n",
            " ('source_station_id',),\n",
            " ('original_id',)]\n"
          ],
          "name": "stdout"
        }
      ]
    },
    {
      "cell_type": "code",
      "metadata": {
        "colab": {
          "base_uri": "https://localhost:8080/"
        },
        "id": "ssx1SyZJBLmF",
        "outputId": "3c8f8091-9b81-4669-ac09-c409af84fb31"
      },
      "source": [
        "get_table_cols('data_all')"
      ],
      "execution_count": 7,
      "outputs": [
        {
          "output_type": "stream",
          "text": [
            "[('id',),\n",
            " ('variable_id',),\n",
            " ('created_at',),\n",
            " ('data_value',),\n",
            " ('meta',),\n",
            " ('station_id',),\n",
            " ('data_date',)]\n"
          ],
          "name": "stdout"
        }
      ]
    },
    {
      "cell_type": "code",
      "metadata": {
        "colab": {
          "base_uri": "https://localhost:8080/",
          "height": 545
        },
        "id": "UuPY6qyZ1bqR",
        "outputId": "02110404-2eb0-4794-df57-e39ccba17879"
      },
      "source": [
        "df=get_metar()\n",
        "df"
      ],
      "execution_count": 8,
      "outputs": [
        {
          "output_type": "stream",
          "text": [
            "{'properties': {'bbox': '-104.9437,1.7951,-60.9984,28.1561',\n",
            "                'beg_time': '1625065733',\n",
            "                'data': 'METAR',\n",
            "                'end_time': '1625072933',\n",
            "                'wrap': ''},\n",
            " 'type': 'Feature'}\n",
            "dict_keys(['type', 'id', 'properties', 'geometry'])\n"
          ],
          "name": "stdout"
        },
        {
          "output_type": "execute_result",
          "data": {
            "text/html": [
              "<div>\n",
              "<style scoped>\n",
              "    .dataframe tbody tr th:only-of-type {\n",
              "        vertical-align: middle;\n",
              "    }\n",
              "\n",
              "    .dataframe tbody tr th {\n",
              "        vertical-align: top;\n",
              "    }\n",
              "\n",
              "    .dataframe thead th {\n",
              "        text-align: right;\n",
              "    }\n",
              "</style>\n",
              "<table border=\"1\" class=\"dataframe\">\n",
              "  <thead>\n",
              "    <tr style=\"text-align: right;\">\n",
              "      <th></th>\n",
              "      <th>type</th>\n",
              "      <th>id</th>\n",
              "      <th>properties</th>\n",
              "      <th>geometry</th>\n",
              "    </tr>\n",
              "  </thead>\n",
              "  <tbody>\n",
              "    <tr>\n",
              "      <th>0</th>\n",
              "      <td>Feature</td>\n",
              "      <td>470754571</td>\n",
              "      <td>{'data': 'METAR', 'id': 'KMIA', 'site': 'Miami...</td>\n",
              "      <td>{'type': 'Point', 'coordinates': [-80.317, 25....</td>\n",
              "    </tr>\n",
              "    <tr>\n",
              "      <th>1</th>\n",
              "      <td>Feature</td>\n",
              "      <td>470763077</td>\n",
              "      <td>{'data': 'METAR', 'id': 'MMMD', 'site': 'Merid...</td>\n",
              "      <td>{'type': 'Point', 'coordinates': [-89.659, 20....</td>\n",
              "    </tr>\n",
              "    <tr>\n",
              "      <th>2</th>\n",
              "      <td>Feature</td>\n",
              "      <td>470765915</td>\n",
              "      <td>{'data': 'METAR', 'id': 'MMMX', 'site': 'Mexic...</td>\n",
              "      <td>{'type': 'Point', 'coordinates': [-99.072, 19....</td>\n",
              "    </tr>\n",
              "    <tr>\n",
              "      <th>3</th>\n",
              "      <td>Feature</td>\n",
              "      <td>470766411</td>\n",
              "      <td>{'data': 'METAR', 'id': 'MROC', 'site': 'San J...</td>\n",
              "      <td>{'type': 'Point', 'coordinates': [-84.218, 9.9...</td>\n",
              "    </tr>\n",
              "    <tr>\n",
              "      <th>4</th>\n",
              "      <td>Feature</td>\n",
              "      <td>470750715</td>\n",
              "      <td>{'data': 'METAR', 'id': 'MWCR', 'site': 'Grand...</td>\n",
              "      <td>{'type': 'Point', 'coordinates': [-81.357, 19....</td>\n",
              "    </tr>\n",
              "    <tr>\n",
              "      <th>...</th>\n",
              "      <td>...</td>\n",
              "      <td>...</td>\n",
              "      <td>...</td>\n",
              "      <td>...</td>\n",
              "    </tr>\n",
              "    <tr>\n",
              "      <th>226</th>\n",
              "      <td>Feature</td>\n",
              "      <td>470760827</td>\n",
              "      <td>{'data': 'METAR', 'id': 'KCLW', 'site': 'Clear...</td>\n",
              "      <td>{'type': 'Point', 'coordinates': [-82.756, 27....</td>\n",
              "    </tr>\n",
              "    <tr>\n",
              "      <th>227</th>\n",
              "      <td>Feature</td>\n",
              "      <td>470764755</td>\n",
              "      <td>{'data': 'METAR', 'id': 'KNQX', 'site': 'Key W...</td>\n",
              "      <td>{'type': 'Point', 'coordinates': [-81.683, 24....</td>\n",
              "    </tr>\n",
              "    <tr>\n",
              "      <th>228</th>\n",
              "      <td>Feature</td>\n",
              "      <td>470768561</td>\n",
              "      <td>{'data': 'METAR', 'id': 'KPMP', 'site': 'Pompa...</td>\n",
              "      <td>{'type': 'Point', 'coordinates': [-80.111, 26....</td>\n",
              "    </tr>\n",
              "    <tr>\n",
              "      <th>229</th>\n",
              "      <td>Feature</td>\n",
              "      <td>470764945</td>\n",
              "      <td>{'data': 'METAR', 'id': 'KRAS', 'site': 'Port ...</td>\n",
              "      <td>{'type': 'Point', 'coordinates': [-97.085, 27....</td>\n",
              "    </tr>\n",
              "    <tr>\n",
              "      <th>230</th>\n",
              "      <td>Feature</td>\n",
              "      <td>470764555</td>\n",
              "      <td>{'data': 'METAR', 'id': 'KTPF', 'site': 'Tampa...</td>\n",
              "      <td>{'type': 'Point', 'coordinates': [-82.452, 27....</td>\n",
              "    </tr>\n",
              "  </tbody>\n",
              "</table>\n",
              "<p>231 rows × 4 columns</p>\n",
              "</div>"
            ],
            "text/plain": [
              "        type  ...                                           geometry\n",
              "0    Feature  ...  {'type': 'Point', 'coordinates': [-80.317, 25....\n",
              "1    Feature  ...  {'type': 'Point', 'coordinates': [-89.659, 20....\n",
              "2    Feature  ...  {'type': 'Point', 'coordinates': [-99.072, 19....\n",
              "3    Feature  ...  {'type': 'Point', 'coordinates': [-84.218, 9.9...\n",
              "4    Feature  ...  {'type': 'Point', 'coordinates': [-81.357, 19....\n",
              "..       ...  ...                                                ...\n",
              "226  Feature  ...  {'type': 'Point', 'coordinates': [-82.756, 27....\n",
              "227  Feature  ...  {'type': 'Point', 'coordinates': [-81.683, 24....\n",
              "228  Feature  ...  {'type': 'Point', 'coordinates': [-80.111, 26....\n",
              "229  Feature  ...  {'type': 'Point', 'coordinates': [-97.085, 27....\n",
              "230  Feature  ...  {'type': 'Point', 'coordinates': [-82.452, 27....\n",
              "\n",
              "[231 rows x 4 columns]"
            ]
          },
          "metadata": {
            "tags": []
          },
          "execution_count": 8
        }
      ]
    },
    {
      "cell_type": "code",
      "metadata": {
        "colab": {
          "base_uri": "https://localhost:8080/"
        },
        "id": "9F3etLOzJUaS",
        "outputId": "507627d1-741f-4c84-813c-9489da1514b2"
      },
      "source": [
        "df['properties'].iloc[14]"
      ],
      "execution_count": 11,
      "outputs": [
        {
          "output_type": "execute_result",
          "data": {
            "text/plain": [
              "{'altim': 1020.4,\n",
              " 'ceil': 20,\n",
              " 'cldBas1': '20',\n",
              " 'cldBas2': '80',\n",
              " 'cldCvg1': 'BKN',\n",
              " 'cldCvg2': 'OVC',\n",
              " 'cover': 'OVC',\n",
              " 'data': 'METAR',\n",
              " 'dewp': 17.0,\n",
              " 'fltcat': 'MVFR',\n",
              " 'id': 'MMTC',\n",
              " 'obsTime': '2021-06-30T16:42:00Z',\n",
              " 'prior': 1,\n",
              " 'rawOb': 'MMTC 301642Z 00000KT 6SM BKN020 OVC080 26/17 A3013 RMK 8/11/ HZY',\n",
              " 'site': 'Torreon/Tinoco Intl',\n",
              " 'temp': 26.0,\n",
              " 'visib': 6.0,\n",
              " 'wdir': 0,\n",
              " 'wspd': 0}"
            ]
          },
          "metadata": {
            "tags": []
          },
          "execution_count": 11
        }
      ]
    },
    {
      "cell_type": "code",
      "metadata": {
        "id": "Ta1oLCoS13Cy"
      },
      "source": [
        "src=1\n",
        "var=dict()\n",
        "var['tmp'] =3       ##TMP\tTemperatura\t1, Horaria\t2021-05-07\t\t\t\t\n",
        "var['dewp']=4\t      ##DWP\tPunto de Rocío\t1, Horaria\t2021-05-07\t\t\t\t\n",
        "                     ##5\tPCP\tPrecipitación\t1, Horaria\t2021-05-07\t\t\t\t\n",
        "var['wdir']=7\t      ##WND\tDirección del Viento\t1, Horaria\t2021-05-07\t\t\t\t\n",
        "var['wspd']=8\t      ##WNS\tVelocidad del viento KPH\t1, Horaria\t2021-05-07\t\t\t\t\n",
        "var['wgst']=9\t      ##WNG\tRáfaga de viento KPH\t1, Horaria\t2021-05-07\t\t\t\t\n",
        "#var['slp']=10\t     ##PRS\tPresión Atmosférica\t1, Horaria\t2021-05-07\t\t\t\t\n",
        "var['rawOb']=11         ##\tRAW\tObjeto de datos o mensaje. (Si está disponible)\t1, Horaria\t2021-05-07\t\t\t\t\n",
        "var['wx']=12\t       ##WX\tTiempo Presente (METAR)\t1, Horaria\t2021-05-07\n",
        "\n",
        "variables_metar=['tmp','dewp','wdir','wspd','wgst','rawOb','wx']"
      ],
      "execution_count": 12,
      "outputs": []
    },
    {
      "cell_type": "code",
      "metadata": {
        "id": "owptLXqTsw6P"
      },
      "source": [
        "\n",
        "for index, row in df.iterrows():\n",
        "    #print(index,row['properties']['id'])\n",
        "    ##se creo un indice único de source_id,source_station_id\n",
        "   # print('Processing: '+row['properties']['id']+' '+row['properties']['site'])\n",
        "    query='insert into station (source_id,station_name,latitude,longitude,source_station_id,original_id) values ('\n",
        "    query=query+\"{},'{}',{},{},'{}','{}') on conflict do nothing;\".format(src,row['properties']['site'],row['geometry']['coordinates'][1],row['geometry']['coordinates'][0],row['properties']['id'],row['properties']['id'])\n",
        "   # print(query)\n",
        "    cursor.execute(query)\n",
        "    query_data=''\n",
        "    for variable in variables_metar:\n",
        "      if  variable in row['properties']:\n",
        "          query_data=query_data+\"INSERT INTO data_all(variable_id,data_date,data_value, station_id) VALUES({},'{}','{}',{}) on conflict do nothing;\".format(var[variable],row['properties']['obsTime'],row['properties'][variable],'(SELECT id FROM station WHERE source_station_id = \\''+row['properties']['id']+'\\')')\n",
        "   # print(query_data)\n",
        "    cursor.execute(query_data)\n",
        "    connection.commit()\n",
        "    \n",
        "        "
      ],
      "execution_count": null,
      "outputs": []
    },
    {
      "cell_type": "code",
      "metadata": {
        "colab": {
          "base_uri": "https://localhost:8080/"
        },
        "id": "WY6O4r3mJMNX",
        "outputId": "0f8aa588-73b3-4e00-fdeb-315dc2583e79"
      },
      "source": [
        "conn_close()"
      ],
      "execution_count": null,
      "outputs": [
        {
          "output_type": "stream",
          "text": [
            "PostgreSQL connection is closed\n"
          ],
          "name": "stdout"
        }
      ]
    }
  ]
}